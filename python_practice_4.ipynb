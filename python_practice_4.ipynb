{
  "nbformat": 4,
  "nbformat_minor": 0,
  "metadata": {
    "colab": {
      "provenance": []
    },
    "kernelspec": {
      "name": "python3",
      "display_name": "Python 3"
    },
    "language_info": {
      "name": "python"
    }
  },
  "cells": [
    {
      "cell_type": "markdown",
      "source": [
        "# I. Functions. Arguments."
      ],
      "metadata": {
        "id": "-xM96SkgLNxS"
      }
    },
    {
      "cell_type": "markdown",
      "source": [
        "0. (5б) Назвіть 4 частини, з яких складається визначення функції."
      ],
      "metadata": {
        "id": "RFkkDC1jikAI"
      }
    },
    {
      "cell_type": "code",
      "source": [
        "def nameFunction(): # перша частина: def, друга частина: назва функції, третья частина: параметри функції, четверта частина: тіло функції;\n",
        "  pass"
      ],
      "metadata": {
        "id": "tV4xxWnFisqZ"
      },
      "execution_count": null,
      "outputs": []
    },
    {
      "cell_type": "markdown",
      "source": [
        "1. (4б) Визначте функцію, що приймає 2 аргументи та повертає результат ділення 1го аргумента на інший."
      ],
      "metadata": {
        "id": "mg6qjOB2LbVs"
      }
    },
    {
      "cell_type": "code",
      "execution_count": 12,
      "metadata": {
        "id": "lUbA_FWjKxQD",
        "colab": {
          "base_uri": "https://localhost:8080/"
        },
        "outputId": "7f41d886-ff91-4ef0-ac34-d6d1e40aa5ba"
      },
      "outputs": [
        {
          "output_type": "execute_result",
          "data": {
            "text/plain": [
              "5.0"
            ]
          },
          "metadata": {},
          "execution_count": 12
        }
      ],
      "source": [
        "def DivisionFunc(num1: int, num2: int):\n",
        "  return num1 / num2\n",
        "DivisionFunc(30, 6)"
      ]
    },
    {
      "cell_type": "markdown",
      "source": [
        "2. (2б) Викличте вище визначену функцію, де другий аргумент дорівнює 0."
      ],
      "metadata": {
        "id": "wMAYj2KXLpiJ"
      }
    },
    {
      "cell_type": "code",
      "source": [
        "num1 = 30\n",
        "num2 = 0\n",
        "if num2 == 0:\n",
        "        print(\"Ділення на нуль неможливе. Спробуйте інше число.\")\n",
        "else:\n",
        "        DivisionFunc(num1, num2)"
      ],
      "metadata": {
        "id": "103jJj32Lo4Y",
        "colab": {
          "base_uri": "https://localhost:8080/"
        },
        "outputId": "3f54a648-4454-4429-a0ec-445ce1247a8c"
      },
      "execution_count": 22,
      "outputs": [
        {
          "output_type": "stream",
          "name": "stdout",
          "text": [
            "Ділення на нуль неможливе. Спробуйте інше число.\n"
          ]
        }
      ]
    },
    {
      "cell_type": "markdown",
      "source": [
        "3. (6б) Перевизначте функцію так, щоби у випадку ділення на 0 функція повертала None, а в решті випадків - результат розрахунків."
      ],
      "metadata": {
        "id": "eT-pwEwPMD3T"
      }
    },
    {
      "cell_type": "code",
      "source": [
        "def DivisionFunc(num1: int, num2: int):\n",
        "  if num2 == 0:\n",
        "    return None\n",
        "  return num1 / num2\n",
        "DivisionFunc(30, 0)"
      ],
      "metadata": {
        "id": "1h6Jz7CKMTk_"
      },
      "execution_count": 46,
      "outputs": []
    },
    {
      "cell_type": "markdown",
      "source": [
        "4. (5б) Напишіть документацію (docstring) у форматі Google до функції, що має обчислювати суму двох чисел."
      ],
      "metadata": {
        "id": "iuTiofyDMVMG"
      }
    },
    {
      "cell_type": "code",
      "source": [
        "\"\"\"\n",
        "Обчислення суми двох чисел\n",
        "Аргументи: n1, n2 - числа для додавання\n",
        "Return: Сума двох чисел\n",
        "sum(40, 50)\n",
        "\"\"\""
      ],
      "metadata": {
        "id": "a9E6iU_iNyYQ",
        "colab": {
          "base_uri": "https://localhost:8080/",
          "height": 35
        },
        "outputId": "6dceaabc-e01c-4a41-97f5-2a33de0fb647"
      },
      "execution_count": 24,
      "outputs": [
        {
          "output_type": "execute_result",
          "data": {
            "text/plain": [
              "'\\nОбчислення суми двох чисел\\nАргументи: n1, n2 - числа для додавання\\nReturn: Сума двох чисел\\nНаприклад: sum(40, 50)\\n'"
            ],
            "application/vnd.google.colaboratory.intrinsic+json": {
              "type": "string"
            }
          },
          "metadata": {},
          "execution_count": 24
        }
      ]
    },
    {
      "cell_type": "markdown",
      "source": [
        "5. (4б) Реалізуйте цю функцію (із додаванням docstring у визначення функції)."
      ],
      "metadata": {
        "id": "ZvrsUQZFN5VT"
      }
    },
    {
      "cell_type": "code",
      "source": [
        "def sum(n1: int, n2: int):\n",
        "  \"\"\"\n",
        "Обчислення суми двох чисел\n",
        "Аргументи: n1, n2 - числа для додавання\n",
        "Return: Сума двох чисел\n",
        "sum(40, 50)\n",
        "  \"\"\"\n",
        "  return n1 + n2"
      ],
      "metadata": {
        "id": "K5h3KTVuOBP3"
      },
      "execution_count": 29,
      "outputs": []
    },
    {
      "cell_type": "markdown",
      "source": [
        "6. (6б) Визначте функцію, що віднімає одне число від іншого (підказка: це буде 2 аргументи функції). При чому, якщо не визначити, скільки саме має бути віднято від числа, за замовчуванням має відніматися 1. Викличте функцію, передаючи тільки один аргумент."
      ],
      "metadata": {
        "id": "IILi2wfYOwYb"
      }
    },
    {
      "cell_type": "code",
      "source": [
        "def minusFunc(n1: float, n2:float = 5):\n",
        "  return n1 - n2\n",
        "minusFunc(17)"
      ],
      "metadata": {
        "id": "hybHnk8ROvxQ",
        "colab": {
          "base_uri": "https://localhost:8080/"
        },
        "outputId": "c126c88a-6fd5-4aa3-bd8d-05a0108ff4a5"
      },
      "execution_count": 30,
      "outputs": [
        {
          "output_type": "execute_result",
          "data": {
            "text/plain": [
              "12"
            ]
          },
          "metadata": {},
          "execution_count": 30
        }
      ]
    },
    {
      "cell_type": "markdown",
      "source": [
        "7. (10б) Визначте функцію, яка приймає iterable (ітерабельний обʼєкт, напр. список), що складається з 7ми рядкових значень - назв погодних умов (напр. \"sunny\") за кожен день у тижні. Повертає функція словник, де ключами є рядки з погодними умовами, а значеннями - кількість разів, скільки дана погода була протягом тижня (напр. {'sunny': 1, ...})."
      ],
      "metadata": {
        "id": "UK6o8zcuR7cH"
      }
    },
    {
      "cell_type": "code",
      "source": [
        "def w(array):\n",
        "    w_dict = {}\n",
        "    for i in array:\n",
        "        if i in w_dict:\n",
        "            w_dict[i] += 1\n",
        "        else:\n",
        "            w_dict[i] = 1\n",
        "    return w_dict"
      ],
      "metadata": {
        "id": "3gkR5gl0SyYO"
      },
      "execution_count": 33,
      "outputs": []
    },
    {
      "cell_type": "markdown",
      "source": [
        "8. (3б) Викличте цю функцію тричі з різними аргументами та виведіть результати на екран."
      ],
      "metadata": {
        "id": "x4zhem_2Syf7"
      }
    },
    {
      "cell_type": "code",
      "source": [
        "print(w(['sunny', 'rainy', 'cloudy', 'sunny', 'sunny', 'rainy', 'sunny']))\n",
        "print(w(['sunny', 'sunny', 'sunny', 'cloudy', 'sunny', 'sunny', 'rainy']))\n",
        "print(w(['rainy', 'cloudy', 'sunny', 'rainy', 'cloudy', 'cloudy', 'rainy']))"
      ],
      "metadata": {
        "id": "B0agh7urS0Fc",
        "colab": {
          "base_uri": "https://localhost:8080/"
        },
        "outputId": "7fad2912-35a4-4196-e1b6-62d97e718cd4"
      },
      "execution_count": 35,
      "outputs": [
        {
          "output_type": "stream",
          "name": "stdout",
          "text": [
            "{'sunny': 4, 'rainy': 2, 'cloudy': 1}\n",
            "{'sunny': 5, 'cloudy': 1, 'rainy': 1}\n",
            "{'rainy': 3, 'cloudy': 3, 'sunny': 1}\n"
          ]
        }
      ]
    },
    {
      "cell_type": "markdown",
      "source": [
        "9. (15б) Напишіть програму, яка б шукала необхідне число у **впорядкованому** списку цілочислених значень, де\n",
        "\n",
        "\n",
        "1.   число має вводитись з консолі.\n",
        "2.   власне алгоритм пошуку винесений в окрему функцію, яка повертає булеве значення (знайдено число - True, не знайдено - False).\n",
        "3. в залежності від результату функції, виведіть на екран повідомлення про успішний або ж неуспішний пошук.\n",
        "\n",
        "\n",
        "**Зауваження**: використовувати оператор **in** заборонено."
      ],
      "metadata": {
        "id": "bLgviTMlUlNG"
      }
    },
    {
      "cell_type": "code",
      "source": [
        "def Find_Number(num, array):\n",
        "    a = 0\n",
        "    while a < len(array):\n",
        "        if num == array[a]:\n",
        "            return print(True, f': Число {num} знайдено!')\n",
        "        a += 1\n",
        "    return print(False, f': Число {num} не знайдено.')\n",
        "\n",
        "\n",
        "my_list = [795, 44, 5, 33, 21, 34, 90]\n",
        "user_input = int(input(f'Список: {my_list}\\nВведіть число яке хочете знайти:'))\n",
        "Find_Number(user_input, my_list)"
      ],
      "metadata": {
        "id": "LAHz6MmdcWfP",
        "colab": {
          "base_uri": "https://localhost:8080/"
        },
        "outputId": "79e5661b-ab70-4c14-a0f3-d03018b4f453"
      },
      "execution_count": 39,
      "outputs": [
        {
          "output_type": "stream",
          "name": "stdout",
          "text": [
            "Список: [795, 44, 5, 33, 21, 34, 90]\n",
            "Введіть число яке хочете знайти:44\n",
            "True : Число 44 знайдено!\n"
          ]
        }
      ]
    },
    {
      "cell_type": "markdown",
      "source": [
        "# II. Lambda functions."
      ],
      "metadata": {
        "id": "wCKOEiKhLSld"
      }
    },
    {
      "cell_type": "markdown",
      "source": [
        "10. (6б) Визначте анонімну функцію, що виконувала б завдання з задачі №1."
      ],
      "metadata": {
        "id": "c4EBfW6QcXF7"
      }
    },
    {
      "cell_type": "code",
      "source": [
        "divide = lambda x, y: x / y if y != 0 else 'Ділення на нуль неможливе'\n",
        "divide(90,9)"
      ],
      "metadata": {
        "id": "sGgO6KjuhUj5",
        "colab": {
          "base_uri": "https://localhost:8080/"
        },
        "outputId": "8988f7f8-9f5c-422f-b5dc-aafc58327241"
      },
      "execution_count": 40,
      "outputs": [
        {
          "output_type": "execute_result",
          "data": {
            "text/plain": [
              "10.0"
            ]
          },
          "metadata": {},
          "execution_count": 40
        }
      ]
    },
    {
      "cell_type": "markdown",
      "source": [
        "11. (5б) В яких випадках варто використовувати лямбда-функції?"
      ],
      "metadata": {
        "id": "fWa0efmRhepO"
      }
    },
    {
      "cell_type": "markdown",
      "source": [
        "***Лямба-функції*** варто використовувати у випадках якщо фрагмент коду малий, якщо фунція використовується лише один раз або ж як аргумент для інших функцій"
      ],
      "metadata": {
        "id": "R68BViaPhad_"
      }
    },
    {
      "cell_type": "markdown",
      "source": [
        "12. (9б) Визначте список з рядками. Після цього визначте анонімну функцію для отримання першого символу у верхньому регістрі для кожного рядка списку.\n",
        "*Підказка*: використовуйте анонімну функцію в якості агрумента до вбудованої ф-ції, яка створена для застосування функцій над iterable обʼєктами.\n",
        "Результат виведіть на екран у вигляді кортежу."
      ],
      "metadata": {
        "id": "0CL6ikIkhU7j"
      }
    },
    {
      "cell_type": "code",
      "source": [
        "words = ['Україна', 'Молдова', 'Естонія', 'Нідерланди', 'Еквадор', 'Парагвай', 'Таїланд', 'Сан-Марино', 'Румунія' ]\n",
        "\n",
        "res = tuple(map(lambda word:  word[0].upper(), words))\n",
        "print(res)"
      ],
      "metadata": {
        "id": "I1Lw2SSNhhJw",
        "colab": {
          "base_uri": "https://localhost:8080/"
        },
        "outputId": "040cb2bd-7423-4a2c-9ee6-fb461121025b"
      },
      "execution_count": 42,
      "outputs": [
        {
          "output_type": "stream",
          "name": "stdout",
          "text": [
            "('У', 'М', 'Е', 'Н', 'Е', 'П', 'Т', 'С', 'Р')\n"
          ]
        }
      ]
    },
    {
      "cell_type": "markdown",
      "source": [
        "# III. Decorators."
      ],
      "metadata": {
        "id": "rgGmGt67m5yi"
      }
    },
    {
      "cell_type": "markdown",
      "source": [
        "13. (15б) Визначте декоратор, який би виводив у консоль повідомлення про початок роботи і назву функції, а після відпрацювання функції - повідомлення про закінчення роботи і назву функції, що задекорована."
      ],
      "metadata": {
        "id": "DZm1W0Qqncu8"
      }
    },
    {
      "cell_type": "code",
      "source": [
        "def my_dec(func):\n",
        "    def wrapper(*arg, **kwarg):\n",
        "        print('Початок роботи функції', func.__name__)\n",
        "        inner_return_val = func(*arg, **kwarg)\n",
        "        print('Закінчення роботи функції', func.__name__)\n",
        "        return inner_return_val\n",
        "    return wrapper"
      ],
      "metadata": {
        "id": "5s3X3F6soer0"
      },
      "execution_count": 44,
      "outputs": []
    },
    {
      "cell_type": "markdown",
      "source": [
        "14. (7б) Задекоруйте функції з завдання 3, 5 та 6 декоратором із завдання 13. *Примітка*: продемонструйте 2 способи, як можна задекорувати функції (**УВАГА**: не декоруйте функції двічі!)."
      ],
      "metadata": {
        "id": "AlGt40oVofHB"
      }
    },
    {
      "cell_type": "code",
      "source": [
        "@my_dec\n",
        "def DivisionFunc(num1: int, num2: int):\n",
        "  if num2 == 0:\n",
        "    return None\n",
        "  return num1 / num2\n",
        "\n",
        "minusFunc = my_dec(minusFunc)"
      ],
      "metadata": {
        "id": "hkxhoRVqo1AW"
      },
      "execution_count": 47,
      "outputs": []
    },
    {
      "cell_type": "markdown",
      "source": [
        "15. (2б) Викличте одну з задекорованих функцій і виведіть її результат на екран."
      ],
      "metadata": {
        "id": "6QkS0Kxzo4UR"
      }
    },
    {
      "cell_type": "code",
      "source": [
        "minusFunc(73, 10)"
      ],
      "metadata": {
        "id": "BCCCPai6o-y5",
        "colab": {
          "base_uri": "https://localhost:8080/"
        },
        "outputId": "63540545-8a91-467a-eedb-428db59ed0c4"
      },
      "execution_count": 49,
      "outputs": [
        {
          "output_type": "stream",
          "name": "stdout",
          "text": [
            "Початок роботи функції wrapper\n",
            "Початок роботи функції minusFunc\n",
            "Закінчення роботи функції minusFunc\n",
            "Закінчення роботи функції wrapper\n"
          ]
        },
        {
          "output_type": "execute_result",
          "data": {
            "text/plain": [
              "63"
            ]
          },
          "metadata": {},
          "execution_count": 49
        }
      ]
    },
    {
      "cell_type": "markdown",
      "source": [
        "# Вітаю! Ви велика(ий) молодець, що впоралась(вся). Похваліть себе та побалуйте чимось приємним. Я Вами пишаюся."
      ],
      "metadata": {
        "id": "CSN0Q5pMQVNQ"
      }
    }
  ]
}