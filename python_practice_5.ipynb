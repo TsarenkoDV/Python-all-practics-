{
  "cells": [
    {
      "cell_type": "markdown",
      "metadata": {
        "id": "awfU0tMnOlHH"
      },
      "source": [
        "# I. OOP"
      ]
    },
    {
      "cell_type": "markdown",
      "metadata": {
        "id": "T6r88C4sOwbI"
      },
      "source": [
        "1. (7б). Створіть клас Animal, додайте docstring, три атрибути, один з яких має значення за замовчуванням та два методи на свій розсуд."
      ]
    },
    {
      "cell_type": "code",
      "execution_count": 2,
      "metadata": {
        "id": "fWXuCGV8Oqrn"
      },
      "outputs": [],
      "source": [
        "class Animal:\n",
        "    \"\"\"\n",
        "    Class Animal\n",
        "    \"\"\"\n",
        "\n",
        "    def __init__(self, name, age, specie='Unknown'):\n",
        "        self.name = name\n",
        "        self.age = age\n",
        "        self.specie = specie\n",
        "\n",
        "    def display_info(self):\n",
        "        \"\"\"\n",
        "        Display info about animal\n",
        "        \"\"\"\n",
        "        print(f\"Name: {self.name}, Age: {self.age}, Species: {self.specie}\")\n",
        "\n",
        "    def speak(self):\n",
        "        \"\"\"\n",
        "        Display what animal say\n",
        "        \"\"\"\n",
        "        print(f\"{self.name} speak.\")"
      ]
    },
    {
      "cell_type": "markdown",
      "metadata": {
        "id": "CTu5Dt0_UKul"
      },
      "source": [
        "1.1. (5б). Створіть два обʼєкти цього класу. На одному обʼєкті отримайте значення його атрибуту, а на іншому викличте один з його методів."
      ]
    },
    {
      "cell_type": "code",
      "execution_count": 3,
      "metadata": {
        "colab": {
          "base_uri": "https://localhost:8080/"
        },
        "id": "nLQqAIlKUQRP",
        "outputId": "ab8c3e29-bf9a-4db1-990b-a07c61e85cc3"
      },
      "outputs": [
        {
          "output_type": "stream",
          "name": "stdout",
          "text": [
            "Smoke\n",
            "Name: Loki, Age: 10, Species: Unknown\n"
          ]
        }
      ],
      "source": [
        "parrot = Animal('Smoke', 6)\n",
        "cat = Animal('Loki', 10)\n",
        "\n",
        "print(parrot.name)\n",
        "cat.display_info()"
      ]
    },
    {
      "cell_type": "markdown",
      "metadata": {
        "id": "3KKpQYcWRNgj"
      },
      "source": [
        "2. (9б). Створіть клас, де атрибути мають різні рівні доступу. Спробуйте отримати їхні значення та опишіть результати."
      ]
    },
    {
      "cell_type": "code",
      "execution_count": 8,
      "metadata": {
        "colab": {
          "base_uri": "https://localhost:8080/"
        },
        "id": "PlMQmzciRM_D",
        "outputId": "72662c29-3ca2-4ca2-bea9-14df14e90e59"
      },
      "outputs": [
        {
          "output_type": "stream",
          "name": "stdout",
          "text": [
            "private\n",
            "protected\n",
            "public\n"
          ]
        }
      ],
      "source": [
        "class Class:\n",
        "    def __init__(self):\n",
        "        self.__private = \"private\"\n",
        "        self._protected = \"protected\"\n",
        "        self.public = \"public\"\n",
        "\n",
        "obj = Class()\n",
        "print(obj._Class__private)\n",
        "print(obj._protected)\n",
        "print(obj.public)"
      ]
    },
    {
      "cell_type": "markdown",
      "metadata": {
        "id": "iaoOLp4RRZyc"
      },
      "source": [
        "3. (8б). Як ви розумієте термін self? Для чого використовується метод __init __?"
      ]
    },
    {
      "cell_type": "markdown",
      "metadata": {
        "id": "-yuvBRjFRlz5"
      },
      "source": [
        "self дозволяє отримувати доступ до атрибутів та методів класу всередині його методів, а метод __init __ автоматично викликається при створенні нового об'єкту."
      ]
    },
    {
      "cell_type": "markdown",
      "metadata": {
        "id": "nVectYeATZAi"
      },
      "source": [
        "4. (8б). Створіть клас Фігура без атрибутів, з методом get_area для отримання площі фігури, що повертає 0 та __add __, який приймає self та other в якості аргументів, а повертає суму площин фігур self та other."
      ]
    },
    {
      "cell_type": "code",
      "execution_count": null,
      "metadata": {
        "id": "EYvcpzHbRZLz"
      },
      "outputs": [],
      "source": [
        "class Figure:\n",
        "    def get_area(self):\n",
        "        return 0\n",
        "\n",
        "    def __add__(self, other):\n",
        "        return self.get_area() + other.get_area()"
      ]
    },
    {
      "cell_type": "markdown",
      "metadata": {
        "id": "PheOkqlCg9SD"
      },
      "source": [
        "5. (11б). Створіть 2 дочірніх класи від Фігури: Трикутник та Коло, які мають атрибути, необхідні для розрахунку площин. Визначте метод get_area в кожному з них так, щоби вони розраховували площу в залежності від формули для кожного типу фігури. Створіть обʼєкт класу Трикутник та обʼєкт класу Коло. Виконайте операцію суми за допомогою оператора + між ними."
      ]
    },
    {
      "cell_type": "code",
      "source": [
        "-"
      ],
      "metadata": {
        "id": "bvYs8EeRG7Se"
      },
      "execution_count": null,
      "outputs": []
    },
    {
      "cell_type": "markdown",
      "metadata": {
        "id": "WxW51aGIhN2q"
      },
      "source": [
        "6. (7б). Продемонструйте різницю між isinstance та issubclass."
      ]
    },
    {
      "cell_type": "code",
      "execution_count": null,
      "metadata": {
        "colab": {
          "base_uri": "https://localhost:8080/"
        },
        "id": "E-QybeYShdAu",
        "outputId": "984cf4b0-6b19-4d84-ee1b-483f0206b5ff"
      },
      "outputs": [
        {
          "name": "stdout",
          "output_type": "stream",
          "text": [
            "True\n"
          ]
        }
      ],
      "source": [
        "class Class:\n",
        "  pass\n",
        "\n",
        "obj = Class()\n",
        "print(isinstance(obj, Class))"
      ]
    },
    {
      "cell_type": "code",
      "execution_count": null,
      "metadata": {
        "colab": {
          "base_uri": "https://localhost:8080/"
        },
        "id": "5Gj6ADErlci8",
        "outputId": "fc40a002-b6d3-44fe-b6c7-03c9db16083a"
      },
      "outputs": [
        {
          "name": "stdout",
          "output_type": "stream",
          "text": [
            "False\n",
            "True\n"
          ]
        }
      ],
      "source": [
        "class subClass(Class):\n",
        "  pass\n",
        "\n",
        "print(issubclass(Class, subClass))\n",
        "print(issubclass(subClass, Class))"
      ]
    },
    {
      "cell_type": "markdown",
      "metadata": {
        "id": "Mrup7UL3hfC3"
      },
      "source": [
        "7. (16б). Створіть клас BankAccount з приватними атрибутами balance та account_number.\n",
        "Реалізуйте методи поповнення та зняття коштів, забезпечивши належну інкапсуляцію. Підказка: використовуйте декоратори getter та setter."
      ]
    },
    {
      "cell_type": "code",
      "execution_count": 25,
      "metadata": {
        "id": "Vi8gw9G6i37Y",
        "colab": {
          "base_uri": "https://localhost:8080/"
        },
        "outputId": "86770195-5287-40ce-ea04-55fe37ff0cb7"
      },
      "outputs": [
        {
          "output_type": "stream",
          "name": "stdout",
          "text": [
            "Enter account number: 2\n",
            "Enter initial balance: 30000\n",
            "Account Number: 2\n",
            "Current Balance: 30000.0\n",
            "Enter new balance: 7000\n",
            "Enter deposit amount: 44000\n",
            "Deposited 44000.0 into account 2. New balance: 51000.0\n",
            "Enter withdrawal amount: 21000\n",
            "Withdrew 21000.0 from account 2. New balance: 30000.0\n"
          ]
        }
      ],
      "source": [
        "class BankAccount:\n",
        "    def __init__(self, account_number, initial_balance=0.0):\n",
        "        self._account_number = account_number\n",
        "        self._balance = initial_balance\n",
        "\n",
        "    @property\n",
        "    def balance(self):\n",
        "        return self._balance\n",
        "\n",
        "    @property\n",
        "    def account_number(self):\n",
        "        return self._account_number\n",
        "\n",
        "    @balance.setter\n",
        "    def balance(self, new_balance):\n",
        "        if new_balance >= 0:\n",
        "            self._balance = new_balance\n",
        "        else:\n",
        "            print(\"Error: The balance cannot have a negative value.\")\n",
        "\n",
        "    def deposit(self, amount):\n",
        "        if amount > 0:\n",
        "            self._balance += amount\n",
        "            print(f\"Deposited {amount} into account {self._account_number}. New balance: {self._balance}\")\n",
        "        else:\n",
        "            print(\"Error: Deposit amount must be greater than zero.\")\n",
        "\n",
        "    def withdraw(self, amount):\n",
        "        if 0 < amount <= self._balance:\n",
        "            self._balance -= amount\n",
        "            print(f\"Withdrew {amount} from account {self._account_number}. New balance: {self._balance}\")\n",
        "        elif amount > self._balance:\n",
        "            print(\"Error: Insufficient funds.\")\n",
        "        else:\n",
        "            print(\"Error: Withdrawal amount must be greater than zero.\")\n",
        "\n",
        "\n",
        "account_number = input(\"Enter account number: \")\n",
        "initial_balance = float(input(\"Enter initial balance: \"))\n",
        "account = BankAccount(account_number, initial_balance)\n",
        "\n",
        "# Використання getter\n",
        "print(\"Account Number:\", account.account_number)\n",
        "print(\"Current Balance:\", account.balance)\n",
        "\n",
        "# Використання setter\n",
        "new_balance = float(input(\"Enter new balance: \"))\n",
        "account.balance = new_balance\n",
        "# Операції поповнення та зняття коштів\n",
        "deposit_amount = float(input(\"Enter deposit amount: \"))\n",
        "account.deposit(deposit_amount)\n",
        "\n",
        "withdraw_amount = float(input(\"Enter withdrawal amount: \"))\n",
        "account.withdraw(withdraw_amount)"
      ]
    },
    {
      "cell_type": "markdown",
      "metadata": {
        "id": "q1mgZYuFjB_q"
      },
      "source": [
        "8. (16б). Створіть клас Library, який містить список об'єктів типу Book.\n",
        "Реалізуйте методи для додавання книги, видалення книги та відображення списку книг."
      ]
    },
    {
      "cell_type": "code",
      "execution_count": 30,
      "metadata": {
        "colab": {
          "base_uri": "https://localhost:8080/"
        },
        "id": "z1W8DINmjQQj",
        "outputId": "d7e8ceef-8e72-40ab-98a8-74d99c8f4f07"
      },
      "outputs": [
        {
          "output_type": "stream",
          "name": "stdout",
          "text": [
            "Вітаю в меню бібліофіла!\n",
            "\n",
            "Виберіть варінт дії:\n",
            "1. Додати книжку\n",
            "2. Прибрати книжку\n",
            "3. Роздивитись бібліотеку\n",
            "4. Відійти від полиць\n",
            "Введіть вашу дію (1/2/3/4): 8\n",
            " Такого варіанту дії не існує. Є тільки 4 варіанта.\n",
            "Вітаю в меню бібліофіла!\n",
            "\n",
            "Виберіть варінт дії:\n",
            "1. Додати книжку\n",
            "2. Прибрати книжку\n",
            "3. Роздивитись бібліотеку\n",
            "4. Відійти від полиць\n",
            "Введіть вашу дію (1/2/3/4): 1\n",
            "Введіть назву книги:Темний ліс\n",
            "Введіть ім'я автора книги: Лю Цисінь\n",
            "Книгу 'Темний ліс'  за авторством Лю Цисінь додано до бібліотеки.\n",
            "Список книг в бібліотеці:\n",
            "Темний ліс by Лю Цисінь\n",
            "Вітаю в меню бібліофіла!\n",
            "\n",
            "Виберіть варінт дії:\n",
            "1. Додати книжку\n",
            "2. Прибрати книжку\n",
            "3. Роздивитись бібліотеку\n",
            "4. Відійти від полиць\n",
            "Введіть вашу дію (1/2/3/4): 4\n",
            "Ви вирішили відійти. Можливо це правильний варіант? \n",
            "Все ж таки залежність від книжок - це також приклад ескапізму.\n"
          ]
        }
      ],
      "source": [
        "class Book:\n",
        "    def __init__(self, title, author):\n",
        "        self.title = title\n",
        "        self.author = author\n",
        "\n",
        "class Library:\n",
        "    def __init__(self):\n",
        "        self.books = []\n",
        "\n",
        "    def add_book(self, title, author):\n",
        "        new_book = Book(title, author)\n",
        "        self.books.append(new_book)\n",
        "        print(f\"Книгу '{new_book.title}'  за авторством {new_book.author} додано до бібліотеки.\")\n",
        "        self.display_books()\n",
        "\n",
        "    def remove_book(self, title):\n",
        "        for book in self.books:\n",
        "            if book.title == title:\n",
        "                self.books.remove(book)\n",
        "                print(f\"Книгу '{book.title}' за авторством {book.author} прибрано з бібліотеки.\")\n",
        "                self.display_books()\n",
        "                break\n",
        "        else:\n",
        "            print(f\"Книги з такою назвою - '{title}' не знайдено!\")\n",
        "\n",
        "    def display_books(self):\n",
        "        if not self.books:\n",
        "            print(\"Книжні полиці пусті та на них пиляка.\")\n",
        "        else:\n",
        "            print(\"Список книг в бібліотеці:\")\n",
        "            for book in self.books:\n",
        "                print(f\"{book.title} by {book.author}\")\n",
        "\n",
        "# Створення об'єкта Library\n",
        "library = Library()\n",
        "\n",
        "while True:\n",
        "    print(\"Вітаю в меню бібліофіла!\")\n",
        "    print(\"\\nВиберіть варінт дії:\")\n",
        "    print(\"1. Додати книжку\")\n",
        "    print(\"2. Прибрати книжку\")\n",
        "    print(\"3. Роздивитись бібліотеку\")\n",
        "    print(\"4. Відійти від полиць\")\n",
        "\n",
        "    choice = input(\"Введіть вашу дію (1/2/3/4): \")\n",
        "\n",
        "    if choice == \"1\":\n",
        "        title = input(\"Введіть назву книги:\")\n",
        "        author = input(\"Введіть ім'я автора книги: \")\n",
        "        library.add_book(title, author)\n",
        "\n",
        "    elif choice == \"2\":\n",
        "        title = input(\"Введіть назву книги, яку потрібно прибрати...: \")\n",
        "        library.remove_book(title)\n",
        "\n",
        "    elif choice == \"3\":\n",
        "        library.display_books()\n",
        "\n",
        "    elif choice == \"4\":\n",
        "        print(\"Ви вирішили відійти. Можливо це правильний варіант? \\nВсе ж таки залежність від книжок - це також приклад ескапізму.\")\n",
        "        break\n",
        "\n",
        "    else:\n",
        "        print(\" Такого варіанту дії не існує. Є тільки 4 варіанта.\")"
      ]
    },
    {
      "cell_type": "markdown",
      "metadata": {
        "id": "cCzctafPjwiZ"
      },
      "source": [
        "9. (13б). Створіть клас Person з атрибутами name та age.\n",
        "Створіть ще один клас Employee з такими атрибутами, як department та salary.\n",
        "Створіть клас Manager, який успадковує обидва класи Person та Employee. Продемонструйте використання множинної спадковості, створивши обʼєкт класу Manager та отримавши mro для цього класу."
      ]
    },
    {
      "cell_type": "code",
      "execution_count": 31,
      "metadata": {
        "colab": {
          "base_uri": "https://localhost:8080/"
        },
        "id": "tZQ8-tfPk1k5",
        "outputId": "cb7e90f2-1df0-416c-998d-0ff0f0737ccb"
      },
      "outputs": [
        {
          "output_type": "stream",
          "name": "stdout",
          "text": [
            "[<class '__main__.Manager'>, <class '__main__.Person'>, <class '__main__.Employee'>, <class 'object'>]\n"
          ]
        }
      ],
      "source": [
        "class Person:\n",
        "    def __init__(self, name, age):\n",
        "        self.name = name\n",
        "        self.age = age\n",
        "\n",
        "class Employee:\n",
        "    def __init__(self, department, salary):\n",
        "        self.department = department\n",
        "        self.salary = salary\n",
        "\n",
        "class Manager(Person, Employee):\n",
        "    def __init__(self, name, age, department, salary):\n",
        "        Person.__init__(self, name, age)\n",
        "        Employee.__init__(self, department, salary)\n",
        "\n",
        "manager = Manager('Lain', 27, 'Data Scientist', 50000)\n",
        "print(Manager.mro())"
      ]
    },
    {
      "cell_type": "markdown",
      "metadata": {
        "id": "dzH9DdFTOxCC"
      },
      "source": [
        "# Вітаю! Ви велика(ий) молодець, що впоралась(вся). Похваліть себе та побалуйте чимось приємним. Я Вами пишаюся."
      ]
    }
  ],
  "metadata": {
    "colab": {
      "provenance": []
    },
    "kernelspec": {
      "display_name": "Python 3",
      "name": "python3"
    },
    "language_info": {
      "name": "python"
    }
  },
  "nbformat": 4,
  "nbformat_minor": 0
}