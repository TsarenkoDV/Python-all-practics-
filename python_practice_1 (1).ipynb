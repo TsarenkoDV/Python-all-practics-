{
  "nbformat": 4,
  "nbformat_minor": 0,
  "metadata": {
    "colab": {
      "provenance": []
    },
    "kernelspec": {
      "name": "python3",
      "display_name": "Python 3"
    },
    "language_info": {
      "name": "python"
    }
  },
  "cells": [
    {
      "cell_type": "markdown",
      "source": [
        "# I. Змінні та памʼять."
      ],
      "metadata": {
        "id": "p9wwt0LZzNvn"
      }
    },
    {
      "cell_type": "markdown",
      "source": [
        "1. Створити змінні, що посилаються на два цілих числа, що однакові за значенням, де значення належить проміжку від -5 до 256. Чи будуть ці змінні рівні тільки за значенням або ж ще будуть посилатися на один і той самий обʼєкт в памʼяті? Наведіть код та дайте текстову відповідь нижче."
      ],
      "metadata": {
        "id": "HTJrrm95xSV9"
      }
    },
    {
      "cell_type": "code",
      "execution_count": null,
      "metadata": {
        "id": "FHSFpb1bwTFG",
        "colab": {
          "base_uri": "https://localhost:8080/"
        },
        "outputId": "997f0f8d-a787-4c91-85dc-968b8283f412"
      },
      "outputs": [
        {
          "output_type": "stream",
          "name": "stdout",
          "text": [
            " num1(id):  135388004188560 \n",
            " num2(id):  135388004188560 \n",
            " num1:  6 \n",
            " num2:  6 \n",
            "Значення рівні?  True \n",
            "ID об'єкту рівні? True\n"
          ]
        }
      ],
      "source": [
        "num1 = 6\n",
        "num2 = 6\n",
        "print(\" num1(id): \", id(num1), \"\\n num2(id): \", id(num2), \"\\n\",\"num1: \",num1, \"\\n num2: \",num2,\"\\nЗначення рівні? \", num1==num2, \"\\nID об'єкту рівні?\", id(num1)==id(num2))"
      ]
    },
    {
      "cell_type": "markdown",
      "source": [
        "2. Створити змінні, що посилаються на одне і те саме булеве значення. Чи будуть ці змінні рівні тільки за значенням або ж ще будуть посилатися на один і той самий обʼєкт в памʼяті? Наведіть код та дайте текстову відповідь нижче."
      ],
      "metadata": {
        "id": "N-soIzlV0Awv"
      }
    },
    {
      "cell_type": "code",
      "source": [
        "varBool1 = True\n",
        "varBool2 = True\n",
        "print(\"varBool1: \", varBool1, \"\\nvarBool2: \", varBool2, \"\\nvarBool1(id): \", id(varBool1), \"\\nvarBool2(id): \", id(varBool2), \"\\nЗначення рівні? \", varBool1 == varBool2, \"\\nID об'єкту рівні? \", id(varBool1) == id(varBool2))"
      ],
      "metadata": {
        "id": "qK1-VBih0Lgz",
        "colab": {
          "base_uri": "https://localhost:8080/"
        },
        "outputId": "bcf12f94-ef28-48f7-e35d-b1c72e5e2555"
      },
      "execution_count": null,
      "outputs": [
        {
          "output_type": "stream",
          "name": "stdout",
          "text": [
            "varBool1:  True \n",
            "varBool2:  True \n",
            "varBool1(id):  98760639067168 \n",
            "varBool2(id):  98760639067168 \n",
            "Значення рівні?  True \n",
            "ID об'єкту рівні?  True\n"
          ]
        }
      ]
    },
    {
      "cell_type": "markdown",
      "source": [
        "*місце для текстової відповіді або коментарів *текст курсивом*"
      ],
      "metadata": {
        "id": "nD2SJcgaya4d"
      }
    },
    {
      "cell_type": "markdown",
      "source": [
        "3. За допомогою якої функції можна перевірити належність змінної до вказаного типу даних (напр. чи змінна посилається на значення булевого типу)?"
      ],
      "metadata": {
        "id": "ISORzt6M3vAt"
      }
    },
    {
      "cell_type": "code",
      "source": [
        "varBoolean = False\n",
        "print(type(varBoolean))"
      ],
      "metadata": {
        "id": "N7HHGm4H4CW7",
        "colab": {
          "base_uri": "https://localhost:8080/"
        },
        "outputId": "95eaa178-1956-4c7a-d2e9-e3f0252d1282"
      },
      "execution_count": null,
      "outputs": [
        {
          "output_type": "stream",
          "name": "stdout",
          "text": [
            "<class 'bool'>\n"
          ]
        }
      ]
    },
    {
      "cell_type": "markdown",
      "source": [
        "# II. Цілі числа та числа з рухомою комою"
      ],
      "metadata": {
        "id": "tRxugKAxwYLw"
      }
    },
    {
      "cell_type": "markdown",
      "source": [
        "4. Створити дві змінні, що посилаються на будь-які два цілих числа та продемонструвати такі арифметичні операції: додавання, віднімання, ділення, множення, ділення без залишку, ділення по модулю, приведення до ступеню. Всі результати операцій вивести на екран."
      ],
      "metadata": {
        "id": "NLHkgd5Gybc8"
      }
    },
    {
      "cell_type": "code",
      "source": [
        "a = 24\n",
        "b = 5\n",
        "sum = a + b\n",
        "minus = a - b\n",
        "divide = a / b\n",
        "multiply = a * b\n",
        "divideWithout = a // b\n",
        "divideModule = a % b\n",
        "multiply2 = a ** b\n",
        "print(sum, minus, divide, multiply, divideWithout, divideModule, multiply2, sep=' | ')"
      ],
      "metadata": {
        "id": "Ck6JaN4Qysoc",
        "colab": {
          "base_uri": "https://localhost:8080/"
        },
        "outputId": "9cced36a-edca-43c9-81fc-e968af75dd10"
      },
      "execution_count": null,
      "outputs": [
        {
          "output_type": "stream",
          "name": "stdout",
          "text": [
            "29 | 19 | 4.8 | 120 | 4 | 4 | 7962624\n"
          ]
        }
      ]
    },
    {
      "cell_type": "markdown",
      "source": [
        "5. Створити дві змінні, що посилаються на будь-які два числа з рухомою комою та продемонструвати такі арифметичні операції: додавання, віднімання, ділення, множення, ділення без залишку, ділення по модулю, приведення до ступеню. Всі результати операцій вивести на екран."
      ],
      "metadata": {
        "id": "tOT1crlty3cE"
      }
    },
    {
      "cell_type": "code",
      "source": [
        "a = 35.7\n",
        "b = 4.6\n",
        "sum = a + b\n",
        "minus = a - b\n",
        "divide = a / b\n",
        "multiply = a * b\n",
        "divideWithout = a // b\n",
        "divideModule = a % b\n",
        "multiply2 = a ** b\n",
        "print(sum, minus, divide, multiply, divideWithout, divideModule, multiply2, sep=' | ')"
      ],
      "metadata": {
        "id": "m88_XOI9y-HI",
        "colab": {
          "base_uri": "https://localhost:8080/"
        },
        "outputId": "78f274bf-97c9-49c8-87f2-a800eca2d341"
      },
      "execution_count": null,
      "outputs": [
        {
          "output_type": "stream",
          "name": "stdout",
          "text": [
            "40.300000000000004 | 31.1 | 7.7608695652173925 | 164.22 | 7.0 | 3.5000000000000053 | 13876303.628822807\n"
          ]
        }
      ]
    },
    {
      "cell_type": "markdown",
      "source": [
        "6. Спробуйте проробити всі ті самі арифметичні операції над двома змінними, що посилаються на різні булеві значення. Прокоментуйте, чому, на Вашу думку, Ви отримали саме такі результати."
      ],
      "metadata": {
        "id": "74jIsang0Yfe"
      }
    },
    {
      "cell_type": "code",
      "source": [
        "a = False\n",
        "b = True\n",
        "sum = a + b\n",
        "minus = a - b\n",
        "divide = a / b\n",
        "multiply = a * b\n",
        "divideWithout = a // b\n",
        "divideModule = a % b\n",
        "multiply2 = a ** b\n",
        "print(sum, minus, divide, multiply, divideWithout, divideModule, multiply2, sep=' | ')"
      ],
      "metadata": {
        "id": "Py3JN4gU0eTq",
        "colab": {
          "base_uri": "https://localhost:8080/"
        },
        "outputId": "65c56631-8553-4050-c61f-da6cdcde215b"
      },
      "execution_count": null,
      "outputs": [
        {
          "output_type": "stream",
          "name": "stdout",
          "text": [
            "1 | -1 | 0.0 | 0 | 0 | 0 | 0\n"
          ]
        }
      ]
    },
    {
      "cell_type": "markdown",
      "source": [
        "False = 0, True = 1; завжди"
      ],
      "metadata": {
        "id": "-pY4SCvo0wMG"
      }
    },
    {
      "cell_type": "markdown",
      "source": [
        "7. Використовуючи змінні з вправи 3, продемонструйте механізм явного перетворення типів, де числа з рухомою комою перетворюються на цілі числа."
      ],
      "metadata": {
        "id": "1kBClKgPzZnC"
      }
    },
    {
      "cell_type": "code",
      "source": [
        "a = 34.67\n",
        "print(a, type(a), sep=' | ')\n",
        "a = int(a)\n",
        "print(a, type(a), sep=' | ')"
      ],
      "metadata": {
        "id": "akcVeUWYzlpb",
        "colab": {
          "base_uri": "https://localhost:8080/"
        },
        "outputId": "5ee3f2ff-9f20-41f9-c7f0-ea183dffe558"
      },
      "execution_count": null,
      "outputs": [
        {
          "output_type": "stream",
          "name": "stdout",
          "text": [
            "34.67 | <class 'float'>\n",
            "34 | <class 'int'>\n"
          ]
        }
      ]
    },
    {
      "cell_type": "markdown",
      "source": [
        "# III. Робота зі списками."
      ],
      "metadata": {
        "id": "GYVqN9uP1D4n"
      }
    },
    {
      "cell_type": "markdown",
      "source": [
        "8. Створити список двома різними за синтаксисом способами. За допомогою вбудованої функції обчисліть довжину одного з них."
      ],
      "metadata": {
        "id": "7-DeDunw2sO-"
      }
    },
    {
      "cell_type": "code",
      "source": [
        "list_words = list((\"Hello\", \"world\"))\n",
        "list_nums = [1, 2, 3, 4, 5]\n",
        "print(len(list_nums))"
      ],
      "metadata": {
        "id": "jY07arjK21hH",
        "colab": {
          "base_uri": "https://localhost:8080/"
        },
        "outputId": "6c720b78-316c-4f31-a88a-b50b32f8fe7c"
      },
      "execution_count": null,
      "outputs": [
        {
          "output_type": "stream",
          "name": "stdout",
          "text": [
            "5\n"
          ]
        }
      ]
    },
    {
      "cell_type": "markdown",
      "source": [
        "9. Створіть два списка та за допомогою спеціального методу додайте другий з них в якості останнього елемента першого."
      ],
      "metadata": {
        "id": "8vmGUTjL22gI"
      }
    },
    {
      "cell_type": "code",
      "source": [
        "nums = [1, 2, 3]\n",
        "nums2 = [6, 9, 7]\n",
        "nums.append(nums2)\n",
        "print(nums)"
      ],
      "metadata": {
        "id": "DSP6lO_m4cdV",
        "colab": {
          "base_uri": "https://localhost:8080/"
        },
        "outputId": "fac0d020-741f-41ae-c935-f03d814bd534"
      },
      "execution_count": null,
      "outputs": [
        {
          "output_type": "stream",
          "name": "stdout",
          "text": [
            "[1, 2, 3, [6, 9, 7]]\n"
          ]
        }
      ]
    },
    {
      "cell_type": "markdown",
      "source": [
        "10. Створіть два списка та за допомогою спеціального методу \"розширте\" перший (додайте всі елементи другого в кінець першого списку). Напишіть, чим відрізняються методи в завданні 9 та 10."
      ],
      "metadata": {
        "id": "6ke6ng2j4dtq"
      }
    },
    {
      "cell_type": "code",
      "source": [
        "nums = [1, 2, 3]\n",
        "nums2 = [6, 9, 7]\n",
        "nums.extend(nums2)\n",
        "print(nums)"
      ],
      "metadata": {
        "id": "DVJVvu494q8d",
        "colab": {
          "base_uri": "https://localhost:8080/"
        },
        "outputId": "80ee7389-b052-498d-cdb9-10ef2a854f66"
      },
      "execution_count": null,
      "outputs": [
        {
          "output_type": "stream",
          "name": "stdout",
          "text": [
            "[1, 2, 3, 6, 9, 7]\n"
          ]
        }
      ]
    },
    {
      "cell_type": "markdown",
      "source": [
        "В дев'ятому завданні не розширений список, а просто доданий як один елемент"
      ],
      "metadata": {
        "id": "LvEs8TGo6CaT"
      }
    },
    {
      "cell_type": "markdown",
      "source": [
        "11. Створіть список та відсортуйте його так, щоб:\n",
        "а) його id залишився незмінним після сортування.\n",
        "б) результат сортування був збережений у нову змінну. Підказка: для одного пункту використовуйте вбудовану функцію стортування, а в іншому - спеціальний метод для роботи зі списками."
      ],
      "metadata": {
        "id": "iu_NyJeR4vOu"
      }
    },
    {
      "cell_type": "code",
      "source": [
        "# a&b\n",
        "\n",
        "my_list = [{'id': 3, 'name': 'Андрій'},\n",
        "          {'id': 1, 'name': 'Владислав'},\n",
        "          {'id': 2, 'name': 'Олександр'}]\n",
        "\n",
        "sorted_list = sorted(my_list, key=lambda x: x['id'])\n",
        "\n",
        "print(\"Відсортований список: \", sorted_list)\n",
        "print(\"Початковий список: \", my_list)"
      ],
      "metadata": {
        "id": "LWdiIkDj5Nxo",
        "colab": {
          "base_uri": "https://localhost:8080/"
        },
        "outputId": "2f8492e8-80ea-4148-c36b-7306675e0d78"
      },
      "execution_count": 5,
      "outputs": [
        {
          "output_type": "stream",
          "name": "stdout",
          "text": [
            "Відсортований список:  [{'id': 1, 'name': 'Владислав'}, {'id': 2, 'name': 'Олександр'}, {'id': 3, 'name': 'Андрій'}]\n",
            "Початковий список:  [{'id': 3, 'name': 'Андрій'}, {'id': 1, 'name': 'Владислав'}, {'id': 2, 'name': 'Олександр'}]\n"
          ]
        }
      ]
    },
    {
      "cell_type": "markdown",
      "source": [
        "12. Створіть список з елементами різного типу, де деякі значення елементів повторюються. За допомогою спеціального методу порахуйте кількість значень одного з елементів на Ваш вибір. Результат виведіть на екран."
      ],
      "metadata": {
        "id": "1l80guua5bia"
      }
    },
    {
      "cell_type": "code",
      "source": [
        "array = [\"hello\", 567, True, \"hello\"]\n",
        "print(len(array[0]))"
      ],
      "metadata": {
        "id": "tWFdczmv5z5Q",
        "colab": {
          "base_uri": "https://localhost:8080/"
        },
        "outputId": "c5ebcbca-ce07-4836-9be0-1ecee9ec5f4b"
      },
      "execution_count": null,
      "outputs": [
        {
          "output_type": "stream",
          "name": "stdout",
          "text": [
            "5\n"
          ]
        }
      ]
    },
    {
      "cell_type": "markdown",
      "source": [
        "# IV. Робота з кортежами."
      ],
      "metadata": {
        "id": "pCjR1dJb1Qbi"
      }
    },
    {
      "cell_type": "markdown",
      "source": [
        "13. Створити список з один типом елементів та на основі цього списку створити кортеж."
      ],
      "metadata": {
        "id": "te3MAUYq28TV"
      }
    },
    {
      "cell_type": "code",
      "source": [
        "nums = [45, 78, 22, 67, 47, 85]\n",
        "nums = tuple(nums)\n",
        "print(nums)"
      ],
      "metadata": {
        "id": "uq3O114R2_H1",
        "colab": {
          "base_uri": "https://localhost:8080/"
        },
        "outputId": "d3a3f8a7-2948-4577-e868-d7ffdb0992cb"
      },
      "execution_count": null,
      "outputs": [
        {
          "output_type": "stream",
          "name": "stdout",
          "text": [
            "(45, 78, 22, 67, 47, 85)\n"
          ]
        }
      ]
    },
    {
      "cell_type": "markdown",
      "source": [
        "14. Створити кортеж з один елементом."
      ],
      "metadata": {
        "id": "fAZCxAX06R_k"
      }
    },
    {
      "cell_type": "code",
      "source": [
        "element = (\"Hello\",)\n",
        "print(element)"
      ],
      "metadata": {
        "id": "-QWjudqk6kHd",
        "colab": {
          "base_uri": "https://localhost:8080/"
        },
        "outputId": "acdbc675-cbde-40fb-9fb5-e40ca2513455"
      },
      "execution_count": null,
      "outputs": [
        {
          "output_type": "stream",
          "name": "stdout",
          "text": [
            "('Hello',)\n"
          ]
        }
      ]
    },
    {
      "cell_type": "markdown",
      "source": [
        "15. Створити кортеж. Вивести на екран всі доступні його атрибути та методи."
      ],
      "metadata": {
        "id": "VfTSJwQF7djZ"
      }
    },
    {
      "cell_type": "code",
      "source": [
        "elements = (\"Hello\", 55, True)\n",
        "print(dir(elements))"
      ],
      "metadata": {
        "id": "x9elcFfr774r",
        "colab": {
          "base_uri": "https://localhost:8080/"
        },
        "outputId": "acb2f0d8-4ddb-4802-9560-f752cf4869e7"
      },
      "execution_count": null,
      "outputs": [
        {
          "output_type": "stream",
          "name": "stdout",
          "text": [
            "['__add__', '__class__', '__class_getitem__', '__contains__', '__delattr__', '__dir__', '__doc__', '__eq__', '__format__', '__ge__', '__getattribute__', '__getitem__', '__getnewargs__', '__gt__', '__hash__', '__init__', '__init_subclass__', '__iter__', '__le__', '__len__', '__lt__', '__mul__', '__ne__', '__new__', '__reduce__', '__reduce_ex__', '__repr__', '__rmul__', '__setattr__', '__sizeof__', '__str__', '__subclasshook__', 'count', 'index']\n"
          ]
        }
      ]
    },
    {
      "cell_type": "markdown",
      "source": [
        "16. Порівняйте список та кортеж. Назвіть схожості та відмінності, випадки використання."
      ],
      "metadata": {
        "id": "8LCtYcmI6w1M"
      }
    },
    {
      "cell_type": "markdown",
      "source": [
        "В списках декларація виконується символами [], а в кортежах (). Списки мутабельні, кортежі ні. Списки працюють повільніше ніж кортежі."
      ],
      "metadata": {
        "id": "t9MwoWor7UVB"
      }
    },
    {
      "cell_type": "markdown",
      "source": [
        "# V. Індексування та слайсинг."
      ],
      "metadata": {
        "id": "QTP622J81iHk"
      }
    },
    {
      "cell_type": "markdown",
      "source": [
        "17. Створіть список з 6ти елементів. Отримайте третій елемент за допомогою двох різних індексів."
      ],
      "metadata": {
        "id": "4dmeIU-N9gHy"
      }
    },
    {
      "cell_type": "code",
      "source": [
        "array = [45, 76, 657, 3324, 32, 12]\n",
        "print(array[2], array[-4], sep=' | ')"
      ],
      "metadata": {
        "id": "47LTFhfH9pRe",
        "colab": {
          "base_uri": "https://localhost:8080/"
        },
        "outputId": "51a29281-eff3-400c-d05b-ac4412128a15"
      },
      "execution_count": null,
      "outputs": [
        {
          "output_type": "stream",
          "name": "stdout",
          "text": [
            "657 | 657\n"
          ]
        }
      ]
    },
    {
      "cell_type": "markdown",
      "source": [
        "18. Створіть список, де елементами цього списку також є списки. Отримай перший елемент з останнього рядка та виведи значення на екран."
      ],
      "metadata": {
        "id": "JC3BkD-67_--"
      }
    },
    {
      "cell_type": "code",
      "source": [
        "arrays = [[435, 57, 68], [6745, 757, 883], [768, 533, 212]]"
      ],
      "metadata": {
        "id": "ctR2jdq68cB0",
        "colab": {
          "base_uri": "https://localhost:8080/"
        },
        "outputId": "101764c6-e889-495d-a398-a6a59b1f0ca8"
      },
      "execution_count": null,
      "outputs": [
        {
          "output_type": "stream",
          "name": "stdout",
          "text": [
            "[768, 533, 212]\n"
          ]
        }
      ]
    },
    {
      "cell_type": "markdown",
      "source": [
        "19. Створіть кортеж, що містить 8  елементів цілочисленного типу. Виведіть на екран три найменших значення."
      ],
      "metadata": {
        "id": "A-hPrvOS8cjx"
      }
    },
    {
      "cell_type": "code",
      "source": [
        "my_tuple = (15, 8, 27, 10, 6, 35, 2, 12)\n",
        "\n",
        "result = sorted(my_tuple)[:3]\n",
        "\n",
        "print(\"Три найменших значення: \", result)"
      ],
      "metadata": {
        "id": "GPxJKNUm8xHU",
        "colab": {
          "base_uri": "https://localhost:8080/"
        },
        "outputId": "25613580-6d1f-4199-ec24-30bd59048591"
      },
      "execution_count": 7,
      "outputs": [
        {
          "output_type": "stream",
          "name": "stdout",
          "text": [
            "Три найменших значення:  [2, 6, 8]\n"
          ]
        }
      ]
    },
    {
      "cell_type": "markdown",
      "source": [
        "20. Створіть список з десяти елементів різного типу. Отримайте всі елементи, окрім двох перших та двох останніх та збережіть їх в новій змінній."
      ],
      "metadata": {
        "id": "JA47PKTv8zFK"
      }
    },
    {
      "cell_type": "code",
      "source": [
        "array = [65, \"hello\", 67, True, 8769.56, False, 55, 112, \"world\", 66.5]\n",
        "print(array[2:len(array)-2])"
      ],
      "metadata": {
        "id": "g-GAQS_kAlmr",
        "colab": {
          "base_uri": "https://localhost:8080/"
        },
        "outputId": "0e8d2814-00bd-4135-b0af-c4e1d089b713"
      },
      "execution_count": null,
      "outputs": [
        {
          "output_type": "stream",
          "name": "stdout",
          "text": [
            "[67, True, 8769.56, False, 55, 112]\n"
          ]
        }
      ]
    },
    {
      "cell_type": "markdown",
      "source": [
        "21. Створіть кортеж з 11ти елементів чисел з рухомою комою та отримайте кожен парний за індексом елемент в зворотньому порядку. Наприклад, маючи (1.2, 2.3, 3.3, 4.3, 5.3, 6.3, 7.3, 8.3, 9.3, 0.3), отримати (0.3, 8.3, 6.3, 4.3, 2.3). Результат збережіть в нову змінну та виведіть на екран."
      ],
      "metadata": {
        "id": "m0xrwFijAmDD"
      }
    },
    {
      "cell_type": "code",
      "source": [
        "my_tuple = (1.2, 2.3, 3.3, 4.3, 5.3, 6.3, 7.3, 8.3, 9.3, 0.3, 11.3)\n",
        "result = my_tuple[::2][::-1]\n",
        "\n",
        "print(result)"
      ],
      "metadata": {
        "id": "BQwYLEXdBVBo",
        "colab": {
          "base_uri": "https://localhost:8080/"
        },
        "outputId": "eecfede6-9ec1-402c-b123-6152b071865b"
      },
      "execution_count": 8,
      "outputs": [
        {
          "output_type": "stream",
          "name": "stdout",
          "text": [
            "(11.3, 9.3, 7.3, 5.3, 3.3, 1.2)\n"
          ]
        }
      ]
    },
    {
      "cell_type": "markdown",
      "source": [
        "# Вітаю! Ви велика(ий) молодець, що впоралась(вся). Похваліть себе та побалуйте чимось приємним. Я Вами пишаюся."
      ],
      "metadata": {
        "id": "F0ArvieRBZsG"
      }
    }
  ]
}